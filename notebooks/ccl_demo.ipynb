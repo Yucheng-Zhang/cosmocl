{
 "cells": [
  {
   "cell_type": "code",
   "execution_count": 1,
   "metadata": {},
   "outputs": [],
   "source": [
    "import numpy as np\n",
    "from scipy.special import spherical_jn\n",
    "import matplotlib.pyplot as plt\n",
    "from matplotlib import rcParams\n",
    "\n",
    "from cosmopy import cosmoLCDM\n",
    "import imp\n",
    "from cosmocl import theocl"
   ]
  },
  {
   "cell_type": "code",
   "execution_count": 2,
   "metadata": {},
   "outputs": [],
   "source": [
    "rcParams.update({'font.size': 22})"
   ]
  },
  {
   "cell_type": "markdown",
   "metadata": {},
   "source": [
    "---"
   ]
  },
  {
   "cell_type": "markdown",
   "metadata": {
    "jupyter": {
     "source_hidden": true
    }
   },
   "source": [
    "### Spherical Bessel function\n",
    "- $j_\\ell(k\\chi)$"
   ]
  },
  {
   "cell_type": "code",
   "execution_count": null,
   "metadata": {
    "jupyter": {
     "source_hidden": true
    }
   },
   "outputs": [],
   "source": [
    "fig, (ax) = plt.subplots(ncols=1, nrows=1, figsize=(32, 10))\n",
    "\n",
    "ells = np.array([5])\n",
    "for ell in ells:\n",
    "    kchi = np.linspace(10, 100, 1000)\n",
    "    jell = spherical_jn(ell, kchi)\n",
    "    ax.plot(kchi, jell, label=r'$\\ell={:d}$'.format(ell))\n",
    "    jell_limit = np.sin(kchi - ell*np.pi/2) / kchi\n",
    "    ax.plot(kchi, jell_limit, ls='--', label=r'$\\ell={:d},\\ k\\chi\\rightarrow\\infty$'.format(ell))\n",
    "\n",
    "ax.set_xlabel('$k\\chi$')\n",
    "ax.set_ylabel('$j_\\ell(k\\chi)$')\n",
    "\n",
    "ax.legend()\n",
    "plt.show()"
   ]
  },
  {
   "cell_type": "markdown",
   "metadata": {},
   "source": [
    "---"
   ]
  },
  {
   "cell_type": "markdown",
   "metadata": {},
   "source": [
    "### Set up cosmology"
   ]
  },
  {
   "cell_type": "code",
   "execution_count": 3,
   "metadata": {},
   "outputs": [
    {
     "name": "stdout",
     "output_type": "stream",
     "text": [
      ">> self.interp_chi2z(chi) and self.interp_z2chi(z) generated\n",
      ">> for z in [0, 1101] with dz=0.01 interpolated with linear\n",
      ">> self.interp_D_z(z) generated for z in [0, 1101] with dz=0.1 interpolated with linear\n"
     ]
    }
   ],
   "source": [
    "cosmo = cosmoLCDM.cosmoLCDM(H0=67.66, Om0=0.3111, Ob0=0.04897, Tcmb0=2.7255, As=2.105e-9, ns=0.9665)\n",
    "cosmo.gen_interp_chiz(zmin=0, zmax=1101, dz=0.01)\n",
    "# the following step can be time consuming\n",
    "cosmo.gen_interp_D_z(zmin=0, zmax=1101, dz=0.1)"
   ]
  },
  {
   "cell_type": "code",
   "execution_count": null,
   "metadata": {
    "jupyter": {
     "source_hidden": true
    }
   },
   "outputs": [],
   "source": [
    "# plot D(z)\n",
    "zs = np.linspace(0, 1100, 10000)\n",
    "Ds = cosmo.interp_D_z(zs)\n",
    "\n",
    "fig, (ax) = plt.subplots(1, 1, figsize=(16, 10))\n",
    "ax.plot(zs, Ds)\n",
    "# ax.set_xscale('log')\n",
    "ax.set_xlabel(r'$z$')\n",
    "ax.set_yscale('log')\n",
    "ax.set_ylabel(r'$D(z)$')\n",
    "\n",
    "plt.show()"
   ]
  },
  {
   "cell_type": "code",
   "execution_count": 4,
   "metadata": {},
   "outputs": [
    {
     "name": "stdout",
     "output_type": "stream",
     "text": [
      "chi_CMB = 13882.21 Mpc\n"
     ]
    }
   ],
   "source": [
    "# max chi\n",
    "print('chi_CMB = {:.2f} Mpc'.format(cosmo.z2chi(1100)))"
   ]
  },
  {
   "cell_type": "markdown",
   "metadata": {},
   "source": [
    "---"
   ]
  },
  {
   "cell_type": "markdown",
   "metadata": {},
   "source": [
    "### Galaxy survey functions\n",
    "- Redshift distribution $f_g(z)$ and linear bias $b_g(z)$"
   ]
  },
  {
   "cell_type": "code",
   "execution_count": 5,
   "metadata": {},
   "outputs": [],
   "source": [
    "z_g1, z_g2 = 1.4, 1.6 # redshift bin of the galaxy survey\n",
    "\n",
    "def fg(z):\n",
    "    '''z: ndarray'''\n",
    "    res = np.zeros(z.shape[0])\n",
    "    res[(z >= z_g1) & (z <= z_g2)] = 1./(z_g2-z_g1)\n",
    "    return res\n",
    "\n",
    "def bg(z):\n",
    "    return 2"
   ]
  },
  {
   "cell_type": "markdown",
   "metadata": {},
   "source": [
    "---"
   ]
  },
  {
   "cell_type": "markdown",
   "metadata": {},
   "source": [
    "### Set up calculator"
   ]
  },
  {
   "cell_type": "code",
   "execution_count": 10,
   "metadata": {},
   "outputs": [
    {
     "data": {
      "text/plain": [
       "<module 'cosmocl.theocl' from '/home/users/yz4035/local/py_mods/cosmocl/theocl.py'>"
      ]
     },
     "execution_count": 10,
     "metadata": {},
     "output_type": "execute_result"
    }
   ],
   "source": [
    "# reload after any modificaition\n",
    "imp.reload(theocl)"
   ]
  },
  {
   "cell_type": "code",
   "execution_count": 11,
   "metadata": {},
   "outputs": [
    {
     "name": "stdout",
     "output_type": "stream",
     "text": [
      ">> Number of CPUs: 24\n"
     ]
    }
   ],
   "source": [
    "ccl = theocl.ccl(cosmo)\n",
    "\n",
    "# set up galaxy\n",
    "ccl.set_g(fg, bg)\n",
    "\n",
    "# set up sample points\n",
    "chis = np.arange(0, ccl.chi_CMB, 1)\n",
    "ks = np.arange(0, 1, 0.001)\n",
    "ccl.set_kchi_samp(ks, chis)"
   ]
  },
  {
   "cell_type": "code",
   "execution_count": 12,
   "metadata": {},
   "outputs": [],
   "source": [
    "# set up ell\n",
    "ells = np.arange(2, 4, 1)\n",
    "ccl.set_ell(ells)"
   ]
  },
  {
   "cell_type": "markdown",
   "metadata": {},
   "source": [
    "---"
   ]
  },
  {
   "cell_type": "markdown",
   "metadata": {
    "jupyter": {
     "source_hidden": true
    }
   },
   "source": [
    "### Kernel functions\n",
    "- $\\bar{W}_X(\\chi)$"
   ]
  },
  {
   "cell_type": "code",
   "execution_count": null,
   "metadata": {
    "jupyter": {
     "source_hidden": true
    }
   },
   "outputs": [],
   "source": [
    "fig, (axs) = plt.subplots(ncols=2, nrows=1, figsize=(32, 10))\n",
    "\n",
    "w_kappa = ccl.bar_W_kappa(chis)\n",
    "w_g = ccl.bar_W_g(chis)\n",
    "\n",
    "axs[0].plot(chis, w_kappa)\n",
    "axs[1].plot(chis, w_g)\n",
    "\n",
    "for ax in axs: ax.set_xlabel(r'$\\chi$ [Mpc]')\n",
    "axs[0].set_ylabel(r'$\\bar{W}_\\kappa$'); axs[1].set_ylabel(r'$\\bar{W}_g$')\n",
    "\n",
    "plt.show()"
   ]
  },
  {
   "cell_type": "markdown",
   "metadata": {},
   "source": [
    "---"
   ]
  },
  {
   "cell_type": "markdown",
   "metadata": {
    "jupyter": {
     "source_hidden": true
    }
   },
   "source": [
    "### Transfer functions\n",
    "- $\\Delta_{X,\\ell}(k) = \\int_0^\\infty d\\chi \\bar{W}_X(\\chi)j_\\ell(k\\chi)$"
   ]
  },
  {
   "cell_type": "code",
   "execution_count": null,
   "metadata": {
    "jupyter": {
     "source_hidden": true
    }
   },
   "outputs": [],
   "source": [
    "Delta_kappas = ccl.Delta_kappa()\n",
    "Delta_gs = ccl.Delta_g()"
   ]
  },
  {
   "cell_type": "code",
   "execution_count": null,
   "metadata": {
    "jupyter": {
     "source_hidden": true
    }
   },
   "outputs": [],
   "source": [
    "fig, (axs) = plt.subplots(ncols=2, nrows=1, figsize=(32, 10))\n",
    "\n",
    "for i in range(ccl.ells.shape[0]):\n",
    "    axs[0].plot(ccl.ks, Delta_kappas[i], label=r'$\\ell={:d}$'.format(ccl.ells[i]))\n",
    "    axs[1].plot(ccl.ks, Delta_gs[i], label=r'$\\ell={:d}$'.format(ccl.ells[i]))\n",
    "\n",
    "axs[0].set_ylabel(r'$\\Delta_{\\kappa,\\ell}$'); axs[1].set_ylabel(r'$\\Delta_{g,\\ell}$')\n",
    "for ax in axs:\n",
    "    ax.set_xlabel(r'$k$ [Mpc$^{-1}$]')\n",
    "    ax.legend()\n",
    "    ax.set_xscale('log')\n",
    "\n",
    "plt.show()"
   ]
  },
  {
   "cell_type": "markdown",
   "metadata": {},
   "source": [
    "---"
   ]
  },
  {
   "cell_type": "markdown",
   "metadata": {},
   "source": [
    "### Power spectra"
   ]
  },
  {
   "cell_type": "code",
   "execution_count": 13,
   "metadata": {},
   "outputs": [],
   "source": [
    "# set up matter power spectrum at z=0\n",
    "ccl.set_Pk0()"
   ]
  },
  {
   "cell_type": "markdown",
   "metadata": {},
   "source": [
    "- $C_\\ell^{\\kappa g}$"
   ]
  },
  {
   "cell_type": "code",
   "execution_count": 14,
   "metadata": {},
   "outputs": [],
   "source": [
    "clkg = ccl.c_clkg()"
   ]
  },
  {
   "cell_type": "code",
   "execution_count": 15,
   "metadata": {},
   "outputs": [
    {
     "data": {
      "text/plain": [
       "array([2.34920755e-08, 2.01036677e-08])"
      ]
     },
     "execution_count": 15,
     "metadata": {},
     "output_type": "execute_result"
    }
   ],
   "source": [
    "clkg"
   ]
  }
 ],
 "metadata": {
  "kernelspec": {
   "display_name": "Python 3",
   "language": "python",
   "name": "python3"
  },
  "language_info": {
   "codemirror_mode": {
    "name": "ipython",
    "version": 3
   },
   "file_extension": ".py",
   "mimetype": "text/x-python",
   "name": "python",
   "nbconvert_exporter": "python",
   "pygments_lexer": "ipython3",
   "version": "3.7.4"
  }
 },
 "nbformat": 4,
 "nbformat_minor": 4
}
